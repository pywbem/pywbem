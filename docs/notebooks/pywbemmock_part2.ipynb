{
 "cells": [
  {
   "cell_type": "markdown",
   "metadata": {},
   "source": [
    "# Creating a repository from DMTF Schema\n",
    "\n",
    "In addition to creating a repository specifically defined classes, etc. the repository can be created using the DMTF schema as the source for qualifier declarations and classes.\n",
    "\n",
    "Using this method requires that you make the following decisions:\n",
    "\n",
    "1. Which version of the DMTF released schema you intend to use.\n",
    "\n",
    "2. Where in your local environment do you want to save and expand the schema. This should be a directory and serves both as the storage space for download and expansion and the location checked before download so that the schema is not downloaded each time it is used.\n",
    "\n",
    "3. Use of the experimental schema for the defined DMTF schema release as well as the released schema.\n",
    "\n",
    "4. The leaf classes you need. The method takes responsibility for determining superclasses and other required classes ( ex. associations, embedded instances) defined in the mof for any of the leaf classes you specify."
   ]
  },
  {
   "cell_type": "code",
   "execution_count": null,
   "metadata": {},
   "outputs": [],
   "source": [
    "import pywbem\n",
    "import pywbem_mock\n",
    "\n",
    "import os\n",
    "print(os.getcwd())\n",
    "\n",
    "# Defines the version of the DMTF schema to be installed.\n",
    "# This demo is done with the schema already loaded into the pywbem development environment assuming that\n",
    "# the user is using the docs/notebooks directory. This may change as pywbem updates the schema use\n",
    "# in out tests\n",
    "DMTF_TEST_SCHEME_VER = (2, 49, 0)\n",
    "# location of schema 2.49.0 in pywbem 0.13.0 development\n",
    "# code cloed from github\n",
    "SCHEMA_DIR = os.path.join('..', '..', 'tests', 'schema')\n",
    "print(SCHEMA_DIR)\n",
    "\n",
    "# An alternative would be to define your own schema and schema directory\n",
    "#DMTF_TEST_SCHEME_VER = \"2.51.0\"\n",
    "#SCHEMA_DIR = \".\"\n",
    "\n",
    "classnames = ['CIM_RegisteredProfile', 'CIM_Namespace', 'CIM_ObjectManager',\n",
    "              'CIM_ElementConformsToProfile', 'CIM_ReferencedProfile']\n",
    "\n",
    "conn = pywbem_mock.FakedWBEMConnection(default_namespace='root/cimv2')\n",
    "print(conn)\n",
    "\n",
    "conn.compile_dmtf_schema(DMTF_TEST_SCHEME_VER, SCHEMA_DIR,\n",
    "                                 class_names=classnames, verbose=False)\n",
    "conn.display_repository()"
   ]
  },
  {
   "cell_type": "markdown",
   "metadata": {},
   "source": [
    "## Add some more classes to this repository\n",
    "\n",
    "TODO"
   ]
  },
  {
   "cell_type": "code",
   "execution_count": null,
   "metadata": {},
   "outputs": [],
   "source": [
    "mof= '''\n",
    "    class TST_Class1 {\n",
    "          [Key]\n",
    "        string InstanceID;\n",
    "        string Prop1;\n",
    "    };\n",
    "\n",
    "    class TST_Class2 {\n",
    "          [Key]\n",
    "        string InstanceID;\n",
    "        string Prop2;\n",
    "    };\n",
    "\n",
    "      [Association]\n",
    "    class TST_Association12 {\n",
    "          [Key]\n",
    "        TST_Class1 REF Ref1;\n",
    "          [Key]\n",
    "        TST_Class2 REF Ref2;\n",
    "    };\n",
    "'''\n",
    "\n",
    "conn.compile_mof_string(mof)\n",
    "print(conn.GetClass(\"TST_Class1\"))"
   ]
  },
  {
   "cell_type": "markdown",
   "metadata": {},
   "source": [
    "## adding more objects"
   ]
  },
  {
   "cell_type": "code",
   "execution_count": null,
   "metadata": {},
   "outputs": [],
   "source": [
    "c1_key = pywbem.CIMProperty('InstanceID', type='string', value='111')\n",
    "c1_path = pywbem.CIMInstanceName(\n",
    "    'TST_Class1',\n",
    "    keybindings={c1_key.name: c1_key.value},\n",
    ")\n",
    "c1 = pywbem.CIMInstance(\n",
    "    'TST_Class1',\n",
    "    properties=[\n",
    "        c1_key,\n",
    "        pywbem.CIMProperty('Prop1', type='string', value='1'),\n",
    "    ],\n",
    "    path=c1_path,\n",
    ")\n",
    "\n",
    "c2_key = pywbem.CIMProperty('InstanceID', type='string', value='222')\n",
    "c2_path = pywbem.CIMInstanceName(\n",
    "    'TST_Class2',\n",
    "    keybindings={c2_key.name: c2_key.value},\n",
    ")\n",
    "c2 = pywbem.CIMInstance(\n",
    "    'TST_Class2',\n",
    "    properties=[\n",
    "        c2_key,\n",
    "        pywbem.CIMProperty('Prop2', type='string', value='2'),\n",
    "    ],\n",
    "    path=c2_path,\n",
    ")\n",
    "\n",
    "a12_key1 = pywbem.CIMProperty('Ref1', type='reference', value=c1_path)\n",
    "a12_key2 = pywbem.CIMProperty('Ref2', type='reference', value=c2_path)\n",
    "a12_path = pywbem.CIMInstanceName(\n",
    "    'TST_Association12',\n",
    "    keybindings={\n",
    "        a12_key1.name: a12_key1.value,\n",
    "        a12_key2.name: a12_key2.value,\n",
    "    },\n",
    ")\n",
    "a12 = pywbem.CIMInstance(\n",
    "    'TST_Association12',\n",
    "    properties=[\n",
    "        a12_key1,\n",
    "        a12_key2,\n",
    "    ],\n",
    "    path=a12_path,\n",
    ")\n",
    "\n",
    "conn.add_cimobjects([c1, c2, a12])"
   ]
  },
  {
   "cell_type": "code",
   "execution_count": null,
   "metadata": {},
   "outputs": [],
   "source": []
  }
 ],
 "metadata": {
  "kernelspec": {
   "display_name": "Python 3",
   "language": "python",
   "name": "python3"
  },
  "language_info": {
   "codemirror_mode": {
    "name": "ipython",
    "version": 3
   },
   "file_extension": ".py",
   "mimetype": "text/x-python",
   "name": "python",
   "nbconvert_exporter": "python",
   "pygments_lexer": "ipython3",
   "version": "3.5.2"
  }
 },
 "nbformat": 4,
 "nbformat_minor": 2
}
