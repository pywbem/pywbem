{
 "cells": [
  {
   "cell_type": "markdown",
   "metadata": {},
   "source": [
    "# Using pywbem mock to create a simple repository"
   ]
  },
  {
   "cell_type": "markdown",
   "metadata": {},
   "source": [
    "The pywbem mock package (pywbem_mock) allows a user of pywbem to mock a WBEM server so that pywbem WBEM request methods can be exercised without having a WBEM server available;\n",
    "\n",
    "The pywbem mock support consists of the pywbem_mock.FakedWBEMConnection class that establishes a faked connection. That class is a subclass of pywbem.WBEMConnection and replaces its internal methods that use HTTP/HTTPS to communicate with a WBEM server with methods that operate on a local in-memory repository of CIM objects (the mock repository).\n",
    "\n",
    "As a result, the operation methods of FakedWBEMConnection are those inherited from WBEMConnection, so they have the exact same input parameters, output parameters, return values, and most of the server raised exceptions, as when being invoked on a WBEMConnection object against a WBEM server.\n",
    "\n",
    "Each FakedWBEMConnection object has its own mock repository. The mock repository contains the same kinds of CIM objects a WBEM server repository contains: CIM classes, CIM instances, and CIM qualifier types (declarations), all contained in CIM namespaces.\n",
    "\n",
    "Because FakedWBEMConnection operates only on the mock repository, the class does not have any connection or security-related constructor parameters.\n",
    "\n",
    "FakedWBEMConnection has some methods that allow the user to add CIM classes, instances and qualifier types to its mock repository and view what is in the mock repository. \n",
    "\n",
    "CIM instances in the repository can be modified or deleted by using the pywbem WBEMConnection operation methods such as DeleteClass() or ModifyInstance(). Classes and qualifiers can be deleted using the corresponding delete methods.\n",
    "\n",
    "The following code demonstrates adding a simple set of qualifier declarations by compiling their definiton in MOF and a class to the repository by compiling their MOF definition."
   ]
  },
  {
   "cell_type": "code",
   "execution_count": null,
   "metadata": {},
   "outputs": [],
   "source": [
    "import pywbem\n",
    "import pywbem_mock\n",
    "\n",
    "# MOF string defining qualifiers declarations, class, and instance\n",
    "# This mof will be used throughout this notebook\n",
    "mof = '''\n",
    "    Qualifier Key : boolean = false,\n",
    "        Scope(property, reference),\n",
    "        Flavor(DisableOverride, ToSubclass);\n",
    "    Qualifier Description : string = null,\n",
    "        Scope(any),\n",
    "        Flavor(EnableOverride, ToSubclass, Translatable);    \n",
    "    Qualifier In : boolean = true, \n",
    "        Scope(parameter), \n",
    "        Flavor(DisableOverride, ToSubclass);\n",
    "\n",
    "         [Description (\"This is a dumb test class\")]\n",
    "    class CIM_Foo {\n",
    "            [Key, Description (\"This is key prop\")]\n",
    "        string InstanceID;\n",
    "            [Description (\"This is some simplistic data\")]\n",
    "        Uint32 SomeData;\n",
    "            [Description (\"This is a method without parameters\")]\n",
    "        string Method1();\n",
    "            [Description (\"This is a second method with parameter\")]\n",
    "        uint32 Delete([IN, Description(\"blahblah\")]\n",
    "          boolean Immediate);\n",
    "    };\n",
    "\n",
    "    instance of CIM_Foo as $I1 { InstanceID = \"I1\"; SomeData=3; };\n",
    "    '''\n",
    "\n",
    "# Create a faked connection (with a mock repository in full mode)\n",
    "conn = pywbem_mock.FakedWBEMConnection(default_namespace='root/cimv2')\n",
    "\n",
    "# Compile the MOF string and add its CIM objects to the default namespace\n",
    "# of the mock repository\n",
    "conn.compile_mof_string(mof)"
   ]
  },
  {
   "cell_type": "markdown",
   "metadata": {},
   "source": [
    "## Display the created repository\n",
    "\n",
    "At any time, the data in the repository can be displayed using the method display_repository()."
   ]
  },
  {
   "cell_type": "code",
   "execution_count": null,
   "metadata": {},
   "outputs": [],
   "source": [
    "conn.display_repository()"
   ]
  },
  {
   "cell_type": "markdown",
   "metadata": {},
   "source": [
    "## Execute simple operations on the mock repository\n",
    "\n",
    "Once qualifier declarations, classes, and instances have been inserted into  the mock repository they\n",
    "can be retrieved using the WBEMConnection methods provided by pyebem.\n",
    "\n",
    "Thus, WBEMConnection.getQualifier() retrieves a single qualifier declaration. The method tomof() is\n",
    "a method in pywbem cimobject classes CIMQualifierDeclaration, CIMClass, and CIMInstance and is an easy\n",
    "way to display the objects returned from the repository"
   ]
  },
  {
   "cell_type": "code",
   "execution_count": null,
   "metadata": {},
   "outputs": [],
   "source": [
    "from pywbem import CIMInstanceName, Error\n",
    "# Perform operations on the faked connection:\n",
    "\n",
    "# Enumerate top-level classes in the default namespace (without subclasses)\n",
    "classes = conn.EnumerateClasses();\n",
    "\n",
    "# Get the 'Description' qualifier type in the default namespace\n",
    "qd = conn.GetQualifier('Description')\n",
    "print(qd.tomof())\n",
    "\n",
    "# Enumerate subclasses of 'CIM_Foo' in the default namespace (without subclasses)\n",
    "classes = conn.EnumerateClasses(classname='CIM_Foo')\n",
    "for cls in classes:\n",
    "    print(cls.tomof())\n",
    "\n",
    "# Get 'CIM_Foo' class in the default namespace\n",
    "my_class = conn.GetClass('CIM_Foo')\n",
    "\n",
    "# Get a specific instance of 'CIM_Foo' in the default namespace\n",
    "keybindings = {'InstanceID': \"I1\"}\n",
    "inst = conn.GetInstance(CIMInstanceName('CIM_Foo', keybindings))\n",
    "print(inst.tomof())\n",
    "# print the path of the returned instance\n",
    "print(\"path:%s\" % inst.path)"
   ]
  },
  {
   "cell_type": "markdown",
   "metadata": {},
   "source": [
    "## Create a new instance of the defined class\n",
    "\n",
    "Creating an instance primarily involves attaching properties with their name, value (and often type)\n",
    "as a dictionary to a CIMInstance with the  name of the class for the new instance. The method\n",
    "WBEMConnection.CreateInstance only requires the new instance object (and the namespace if the default\n",
    "namespace is not being used) to manage the instance that is being created.\n",
    "\n",
    "The mocker creates the path for this instance and inserts the new instance into the mock\n",
    "repository. Note that a successful CreateInstance returns a CIMInstanceName for the new instance."
   ]
  },
  {
   "cell_type": "code",
   "execution_count": null,
   "metadata": {},
   "outputs": [],
   "source": [
    "from pywbem import CIMInstance, Uint32\n",
    "\n",
    "p = {\"InstanceID\": \"I2\", \"SomeData\": Uint32(999)}\n",
    "\n",
    "newinst = CIMInstance(\"CIM_Foo\", properties=p)\n",
    "new_path = None\n",
    "try:\n",
    "    new_path = conn.CreateInstance(newinst)\n",
    "    print(\"Return path: %s\" % new_path)\n",
    "except Error as er:\n",
    "    print(\"Exception on CreateInstance. exception=%s\" % er)\n"
   ]
  },
  {
   "cell_type": "markdown",
   "metadata": {},
   "source": [
    "## Now retrieve the new instance from the mock server\n",
    "\n",
    "Here we retrieve the instance we just created from the existing connection and display the\n",
    "instance using the tomof() method."
   ]
  },
  {
   "cell_type": "code",
   "execution_count": null,
   "metadata": {},
   "outputs": [],
   "source": [
    "myinst = conn.GetInstance(CIMInstanceName('CIM_Foo', keybindings={'InstanceID': \"I2\"}))\n",
    "\n",
    "print(\"path:%s\\n%s\" % (myinst.path, myinst.tomof()))"
   ]
  },
  {
   "cell_type": "markdown",
   "metadata": {},
   "source": [
    "## Get the new instance with the path returned by the create\n",
    "\n",
    "Since the CreateInstance returned the path the server created for the instance it inserted into\n",
    "ins repository, that path can also be used to retrieve the instance from the repository"
   ]
  },
  {
   "cell_type": "code",
   "execution_count": null,
   "metadata": {},
   "outputs": [],
   "source": [
    "myinst2 = conn.GetInstance(new_path)\n",
    "print(myinst2.tomof())\n"
   ]
  },
  {
   "cell_type": "markdown",
   "metadata": {},
   "source": [
    "# We can also retrieve all instances of that class\n",
    "\n",
    "In this case we display the returned instances using the string representation"
   ]
  },
  {
   "cell_type": "code",
   "execution_count": null,
   "metadata": {},
   "outputs": [],
   "source": [
    "insts = conn.EnumerateInstances(\"CIM_Foo\")\n",
    "for inst in insts:\n",
    "    print(\"path=%s\" % inst.path)\n",
    "    print(\"%s\" % inst)\n",
    " "
   ]
  },
  {
   "cell_type": "markdown",
   "metadata": {},
   "source": [
    "# Finally we can delete the new instance\n"
   ]
  },
  {
   "cell_type": "code",
   "execution_count": null,
   "metadata": {},
   "outputs": [],
   "source": [
    "try:\n",
    "    conn.DeleteInstance(new_path)\n",
    "    for inst in insts:\n",
    "        print(\"path=%s\" % inst.path)\n",
    "except Error as er:\n",
    "    print(\"Error with delete\")\n",
    "    "
   ]
  },
  {
   "cell_type": "markdown",
   "metadata": {},
   "source": [
    "## Executing a method\n",
    "\n",
    "The mocker can executed CIM methods as if they were on a server.  However, since there are no real providers\n",
    "in the mocker, the user must define what a method would do.  This definition is provided to the mocker\n",
    "by defining a callback and installing it with the add_method_callback method."
   ]
  },
  {
   "cell_type": "code",
   "execution_count": null,
   "metadata": {},
   "outputs": [],
   "source": [
    "from pywbem import CIMParameter\n",
    "\n",
    "# Definition of callback method. This must be registered to\n",
    "# the mock environment with add_method_callback\n",
    "def method1_callback(conn, methodname, objectname, **params):\n",
    "    \"\"\"\n",
    "    Callback function that demonstrates what can be done, without being\n",
    "    really useful.\n",
    "    \"\"\"\n",
    "\n",
    "    # Access input parameters\n",
    "    print('Callback received params: %r' % params )\n",
    "    print('Callback recieved object_name %s' % objectname)\n",
    "    ip1 = params['InputParam1']\n",
    "\n",
    "    # Access the mock repository through the faked connection object.\n",
    "    cl = conn.GetClass(objectname)\n",
    "\n",
    "    # Set return value == 0 and output parameters\n",
    "    rtn_val = 0\n",
    "    # setup output parameter that will be returned to caller\n",
    "    op1 = CIMParameter('OutputParam11', 'string', value='Some output data')\n",
    "    return rtn_val, [op1]\n",
    "\n",
    "more_mof = '''\n",
    "    Qualifier Out : boolean = false,\n",
    "        Scope(parameter),\n",
    "        Flavor(DisableOverride, ToSubclass);\n",
    "\n",
    "    Qualifier Static : boolean = false, \n",
    "        Scope(property, method), \n",
    "        Flavor(DisableOverride, ToSubclass);\n",
    "\n",
    "    class TST_Class {\n",
    "\n",
    "        string InstanceID;\n",
    "\n",
    "          [Static,\n",
    "           Description(\"Static method with input and output parameters\")]\n",
    "        uint32 Method1(\n",
    "            [IN, Description(\"Input param 1\")]\n",
    "          string InputParam1,\n",
    "            [IN (False), OUT, Description(\"Output param 1\")]\n",
    "          string OutputParam1);\n",
    "    };\n",
    "'''\n",
    "\n",
    "# Compile the MOF string and add its CIM objects to the default namespace\n",
    "# of the mock repository\n",
    "conn.compile_mof_string(more_mof)\n",
    "\n",
    "# Register the method callback function to the mock repository, for the\n",
    "# default namespace of the connection\n",
    "\n",
    "# try block allows excuting cell multiple times without exception\n",
    "# because method already registered.\n",
    "try:\n",
    "    conn.add_method_callback('TST_Class', 'Method1', method1_callback)\n",
    "except ValueError as ve:\n",
    "    print(ve)\n",
    "\n",
    "\n",
    "# Define a value for the Method Parameter IP1\n",
    "params = [('InputParam1', 'someData')]\n",
    " # Invoke static method Method1\n",
    "result = conn.InvokeMethod('Method1', 'TST_Class', Params=params)\n",
    "\n",
    "print('Return value: %r' % result[0])\n",
    "print('Output parameters: %r' % (result[1],))"
   ]
  },
  {
   "cell_type": "code",
   "execution_count": null,
   "metadata": {},
   "outputs": [],
   "source": []
  }
 ],
 "metadata": {
  "kernelspec": {
   "display_name": "Python 3",
   "language": "python",
   "name": "python3"
  },
  "language_info": {
   "codemirror_mode": {
    "name": "ipython",
    "version": 3
   },
   "file_extension": ".py",
   "mimetype": "text/x-python",
   "name": "python",
   "nbconvert_exporter": "python",
   "pygments_lexer": "ipython3",
   "version": "3.6.6"
  }
 },
 "nbformat": 4,
 "nbformat_minor": 2
}
